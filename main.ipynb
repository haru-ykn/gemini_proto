{
  "nbformat": 4,
  "nbformat_minor": 0,
  "metadata": {
    "colab": {
      "provenance": [],
      "authorship_tag": "ABX9TyN3AULjugnZFCoQ5QDKNHpo",
      "include_colab_link": true
    },
    "kernelspec": {
      "name": "python3",
      "display_name": "Python 3"
    },
    "language_info": {
      "name": "python"
    }
  },
  "cells": [
    {
      "cell_type": "markdown",
      "metadata": {
        "id": "view-in-github",
        "colab_type": "text"
      },
      "source": [
        "<a href=\"https://colab.research.google.com/github/haru-ykn/gemini_proto/blob/main/main.ipynb\" target=\"_parent\"><img src=\"https://colab.research.google.com/assets/colab-badge.svg\" alt=\"Open In Colab\"/></a>"
      ]
    },
    {
      "cell_type": "code",
      "execution_count": 2,
      "metadata": {
        "id": "xrFn0Kb3yGGO"
      },
      "outputs": [],
      "source": [
        "#GEMINIライブラリのインストール\n",
        "!pip install -q -U google-generativeai"
      ]
    },
    {
      "cell_type": "code",
      "source": [
        "#シークレットを使用するためのライブラリ\n",
        "from google.colab import userdata\n",
        "\n",
        "#API KEY 取得\n",
        "GEMINI_API_KEY = userdata.get('GOOGLE_API_KEY')\n",
        "\n"
      ],
      "metadata": {
        "id": "yeKGSEB70jl5"
      },
      "execution_count": 15,
      "outputs": []
    },
    {
      "cell_type": "code",
      "source": [
        "from google import genai\n",
        "from google.genai import types\n",
        "\n",
        "# クライアントの初期化\n",
        "client = genai.Client(api_key=GEMINI_API_KEY)\n",
        "\n",
        "# コンテンツ生成の実行\n",
        "response = client.models.generate_content(\n",
        "    model='gemini-2.0-flash',\n",
        "    contents='新選組の各組の組長を教えてください。',\n",
        "    config=types.GenerateContentConfig(\n",
        "        system_instruction='あなたは歴史の専門家として答えてください。',\n",
        "        temperature= 0.1,\n",
        "    ),\n",
        ")\n",
        "\n",
        "# 結果の表示\n",
        "print(response.text)\n"
      ],
      "metadata": {
        "colab": {
          "base_uri": "https://localhost:8080/"
        },
        "id": "ALq8zAcMC0_C",
        "outputId": "f4b02206-3904-41d7-b438-3b49a6049ce0"
      },
      "execution_count": 22,
      "outputs": [
        {
          "output_type": "stream",
          "name": "stdout",
          "text": [
            "新選組の各組の組長は以下の通りです。\n",
            "\n",
            "*   **一番組組長:**\n",
            "    *   沖田総司\n",
            "\n",
            "*   **二番組組長:**\n",
            "    *   永倉新八\n",
            "\n",
            "*   **三番組組長:**\n",
            "    *   斎藤一\n",
            "\n",
            "*   **四番組組長:**\n",
            "    *   松原忠司\n",
            "\n",
            "*   **五番組組長:**\n",
            "    *   武田観柳斎\n",
            "\n",
            "*   **六番組組長:**\n",
            "    *   井上源三郎\n",
            "\n",
            "*   **七番組組長:**\n",
            "    *   谷三十郎\n",
            "\n",
            "*   **八番組組長:**\n",
            "    *   藤堂平助\n",
            "\n",
            "*   **九番組組長:**\n",
            "    *   鈴木三樹三郎\n",
            "\n",
            "*   **十番組組長:**\n",
            "    *   原田左之助\n",
            "\n",
            "新選組は、組織改編が何度か行われているため、時期によって組長が異なっていたり、組自体が存在しなかったりすることもあります。上記は、比較的安定していた時期の組長です。\n",
            "\n"
          ]
        }
      ]
    },
    {
      "cell_type": "code",
      "source": [
        "import pathlib\n",
        "import textwrap\n",
        "\n",
        "from IPython.display import display\n",
        "from IPython.display import Markdown\n",
        "\n",
        "def to_markdown(text):\n",
        "  text = text.replace('•', '  *')\n",
        "  return Markdown(textwrap.indent(text, '> ', predicate=lambda _: True))\n",
        "\n",
        "to_markdown(response.text)\n"
      ],
      "metadata": {
        "colab": {
          "base_uri": "https://localhost:8080/",
          "height": 570
        },
        "id": "uojEN8te6vL9",
        "outputId": "341d2cd7-c95e-4221-9f78-683f9c8b3193"
      },
      "execution_count": 23,
      "outputs": [
        {
          "output_type": "execute_result",
          "data": {
            "text/plain": [
              "<IPython.core.display.Markdown object>"
            ],
            "text/markdown": "> 新選組の各組の組長は以下の通りです。\n> \n> *   **一番組組長:**\n>     *   沖田総司\n> \n> *   **二番組組長:**\n>     *   永倉新八\n> \n> *   **三番組組長:**\n>     *   斎藤一\n> \n> *   **四番組組長:**\n>     *   松原忠司\n> \n> *   **五番組組長:**\n>     *   武田観柳斎\n> \n> *   **六番組組長:**\n>     *   井上源三郎\n> \n> *   **七番組組長:**\n>     *   谷三十郎\n> \n> *   **八番組組長:**\n>     *   藤堂平助\n> \n> *   **九番組組長:**\n>     *   鈴木三樹三郎\n> \n> *   **十番組組長:**\n>     *   原田左之助\n> \n> 新選組は、組織改編が何度か行われているため、時期によって組長が異なっていたり、組自体が存在しなかったりすることもあります。上記は、比較的安定していた時期の組長です。\n"
          },
          "metadata": {},
          "execution_count": 23
        }
      ]
    }
  ]
}