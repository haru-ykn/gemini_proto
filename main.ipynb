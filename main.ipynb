{
  "nbformat": 4,
  "nbformat_minor": 0,
  "metadata": {
    "colab": {
      "provenance": [],
      "authorship_tag": "ABX9TyOZFijEMFYzVaG/B6DiNebe",
      "include_colab_link": true
    },
    "kernelspec": {
      "name": "python3",
      "display_name": "Python 3"
    },
    "language_info": {
      "name": "python"
    }
  },
  "cells": [
    {
      "cell_type": "markdown",
      "metadata": {
        "id": "view-in-github",
        "colab_type": "text"
      },
      "source": [
        "<a href=\"https://colab.research.google.com/github/haru-ykn/gemini_proto/blob/main/main.ipynb\" target=\"_parent\"><img src=\"https://colab.research.google.com/assets/colab-badge.svg\" alt=\"Open In Colab\"/></a>"
      ]
    },
    {
      "cell_type": "code",
      "execution_count": 2,
      "metadata": {
        "id": "xrFn0Kb3yGGO"
      },
      "outputs": [],
      "source": [
        "#GEMINIライブラリのインストール\n",
        "!pip install -q -U google-generativeai"
      ]
    },
    {
      "cell_type": "code",
      "source": [
        "#シークレットを使用するためのライブラリ\n",
        "from google.colab import userdata\n",
        "#Geminiライブラリ\n",
        "import google.generativeai as gg\n",
        "\n",
        "#API KEY 取得\n",
        "GEMINI_API_KEY = userdata.get('GOOGLE_API_KEY')\n",
        "\n",
        "#API KEY 設定\n",
        "gg.configure(api_key=GEMINI_API_KEY)\n"
      ],
      "metadata": {
        "id": "yeKGSEB70jl5"
      },
      "execution_count": 3,
      "outputs": []
    },
    {
      "cell_type": "code",
      "source": [
        "#Q&Aを実装する\n",
        "model = gg.GenerativeModel(\"gemini-1.5-flash\")\n",
        "question = \"鎌倉時代が始まった年は？\"\n",
        "response = model.generate_content(question)\n",
        "print(response.text)\n"
      ],
      "metadata": {
        "colab": {
          "base_uri": "https://localhost:8080/",
          "height": 54
        },
        "id": "zAkLtDSJ10_p",
        "outputId": "8f480d59-70d7-4c3f-841c-d7f7b4d830ef"
      },
      "execution_count": 7,
      "outputs": [
        {
          "output_type": "stream",
          "name": "stdout",
          "text": [
            "鎌倉時代は1185年に始まりました。\n",
            "\n"
          ]
        }
      ]
    }
  ]
}