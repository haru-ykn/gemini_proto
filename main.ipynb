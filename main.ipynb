{
  "nbformat": 4,
  "nbformat_minor": 0,
  "metadata": {
    "colab": {
      "provenance": [],
      "authorship_tag": "ABX9TyO7v6ggbyEP+7REI8ZF2UHT",
      "include_colab_link": true
    },
    "kernelspec": {
      "name": "python3",
      "display_name": "Python 3"
    },
    "language_info": {
      "name": "python"
    }
  },
  "cells": [
    {
      "cell_type": "markdown",
      "metadata": {
        "id": "view-in-github",
        "colab_type": "text"
      },
      "source": [
        "<a href=\"https://colab.research.google.com/github/haru-ykn/gemini_proto/blob/main/main.ipynb\" target=\"_parent\"><img src=\"https://colab.research.google.com/assets/colab-badge.svg\" alt=\"Open In Colab\"/></a>"
      ]
    },
    {
      "cell_type": "code",
      "execution_count": 2,
      "metadata": {
        "id": "xrFn0Kb3yGGO"
      },
      "outputs": [],
      "source": [
        "#GEMINIライブラリのインストール\n",
        "!pip install -q -U google-generativeai"
      ]
    },
    {
      "cell_type": "code",
      "source": [
        "#シークレットを使用するためのライブラリ\n",
        "from google.colab import userdata\n",
        "#Geminiライブラリ\n",
        "import google.generativeai as gg\n",
        "\n",
        "#API KEY 取得\n",
        "GEMINI_API_KEY = userdata.get('GOOGLE_API_KEY')\n",
        "\n",
        "#API KEY 設定\n",
        "gg.configure(api_key=GEMINI_API_KEY)\n"
      ],
      "metadata": {
        "id": "yeKGSEB70jl5"
      },
      "execution_count": 3,
      "outputs": []
    },
    {
      "cell_type": "code",
      "source": [
        "#Q&Aを実装する\n",
        "model = gg.GenerativeModel(\"gemini-2.0-flash\")\n",
        "question = \"江戸時代の歴代の天皇を教えてください。\"\n",
        "response = model.generate_content(question)\n",
        "print(response.text)\n"
      ],
      "metadata": {
        "colab": {
          "base_uri": "https://localhost:8080/",
          "height": 335
        },
        "id": "zAkLtDSJ10_p",
        "outputId": "ce9be019-078e-49f9-dfb2-f7890c01e789"
      },
      "execution_count": 9,
      "outputs": [
        {
          "output_type": "stream",
          "name": "stdout",
          "text": [
            "江戸時代の天皇は以下の通りです。\n",
            "\n",
            "1.  **後水尾天皇**（ごみずのおてんのう）：在位1611年 - 1629年\n",
            "2.  **明正天皇**（めいしょうてんのう）：在位1629年 - 1643年（女性天皇）\n",
            "3.  **後光明天皇**（ごこうみょうてんのう）：在位1643年 - 1654年\n",
            "4.  **後西天皇**（ごさいてんのう）：在位1655年 - 1663年\n",
            "5.  **霊元天皇**（れいげんてんのう）：在位1663年 - 1687年\n",
            "6.  **東山天皇**（ひがしやまてんのう）：在位1687年 - 1709年\n",
            "7.  **中御門天皇**（なかみかどてんのう）：在位1709年 - 1735年\n",
            "8.  **桜町天皇**（さくらまちてんのう）：在位1735年 - 1747年\n",
            "9.  **桃園天皇**（ももぞのてんのう）：在位1747年 - 1762年\n",
            "10. **後桃園天皇**（ごももぞのてんのう）：在位1762年 - 1779年\n",
            "11. **光格天皇**（こうかくてんのう）：在位1779年 - 1817年\n",
            "12. **仁孝天皇**（にんこうてんのう）：在位1817年 - 1846年\n",
            "13. **孝明天皇**（こうめいてんのう）：在位1846年 - 1866年\n",
            "\n",
            "孝明天皇の崩御後、明治天皇が即位し、明治時代へと移行します。\n"
          ]
        }
      ]
    },
    {
      "cell_type": "code",
      "source": [
        "import pathlib\n",
        "import textwrap\n",
        "\n",
        "from IPython.display import display\n",
        "from IPython.display import Markdown\n",
        "\n",
        "def to_markdown(text):\n",
        "  text = text.replace('•', '  *')\n",
        "  return Markdown(textwrap.indent(text, '> ', predicate=lambda _: True))\n",
        "\n",
        "to_markdown(response.text)\n"
      ],
      "metadata": {
        "colab": {
          "base_uri": "https://localhost:8080/",
          "height": 333
        },
        "id": "uojEN8te6vL9",
        "outputId": "e73ccf87-5290-4bf4-8c1f-7a96a433b951"
      },
      "execution_count": 10,
      "outputs": [
        {
          "output_type": "execute_result",
          "data": {
            "text/plain": [
              "<IPython.core.display.Markdown object>"
            ],
            "text/markdown": "> 江戸時代の天皇は以下の通りです。\n> \n> 1.  **後水尾天皇**（ごみずのおてんのう）：在位1611年 - 1629年\n> 2.  **明正天皇**（めいしょうてんのう）：在位1629年 - 1643年（女性天皇）\n> 3.  **後光明天皇**（ごこうみょうてんのう）：在位1643年 - 1654年\n> 4.  **後西天皇**（ごさいてんのう）：在位1655年 - 1663年\n> 5.  **霊元天皇**（れいげんてんのう）：在位1663年 - 1687年\n> 6.  **東山天皇**（ひがしやまてんのう）：在位1687年 - 1709年\n> 7.  **中御門天皇**（なかみかどてんのう）：在位1709年 - 1735年\n> 8.  **桜町天皇**（さくらまちてんのう）：在位1735年 - 1747年\n> 9.  **桃園天皇**（ももぞのてんのう）：在位1747年 - 1762年\n> 10. **後桃園天皇**（ごももぞのてんのう）：在位1762年 - 1779年\n> 11. **光格天皇**（こうかくてんのう）：在位1779年 - 1817年\n> 12. **仁孝天皇**（にんこうてんのう）：在位1817年 - 1846年\n> 13. **孝明天皇**（こうめいてんのう）：在位1846年 - 1866年\n> \n> 孝明天皇の崩御後、明治天皇が即位し、明治時代へと移行します。"
          },
          "metadata": {},
          "execution_count": 10
        }
      ]
    }
  ]
}