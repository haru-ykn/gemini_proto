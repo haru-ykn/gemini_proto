{
  "nbformat": 4,
  "nbformat_minor": 0,
  "metadata": {
    "colab": {
      "provenance": [],
      "machine_shape": "hm",
      "authorship_tag": "ABX9TyP7nFRV9SRHZxGiteKxQF2K",
      "include_colab_link": true
    },
    "kernelspec": {
      "name": "python3",
      "display_name": "Python 3"
    },
    "language_info": {
      "name": "python"
    }
  },
  "cells": [
    {
      "cell_type": "markdown",
      "metadata": {
        "id": "view-in-github",
        "colab_type": "text"
      },
      "source": [
        "<a href=\"https://colab.research.google.com/github/haru-ykn/gemini_proto/blob/main/stt.ipynb\" target=\"_parent\"><img src=\"https://colab.research.google.com/assets/colab-badge.svg\" alt=\"Open In Colab\"/></a>"
      ]
    },
    {
      "cell_type": "code",
      "execution_count": null,
      "metadata": {
        "id": "cUAThdba62q_"
      },
      "outputs": [],
      "source": [
        "#SDK install\n",
        "!pip install google-genai\n"
      ]
    },
    {
      "cell_type": "code",
      "source": [
        "#import liblary\n",
        "from google import genai\n",
        "from google.genai import types\n",
        "from google.colab import userdata"
      ],
      "metadata": {
        "id": "BEaUI9rP7Umb"
      },
      "execution_count": 2,
      "outputs": []
    },
    {
      "cell_type": "code",
      "source": [
        "#API KEY 取得\n",
        "GEMINI_API_KEY = userdata.get('GOOGLE_API_KEY')"
      ],
      "metadata": {
        "id": "50Q-raOK8PJe"
      },
      "execution_count": 3,
      "outputs": []
    },
    {
      "cell_type": "code",
      "source": [
        "# prompt: mount the drive\n",
        "from google.colab import drive\n",
        "drive.mount('/content/drive')"
      ],
      "metadata": {
        "id": "czGq2Yx_-fup"
      },
      "execution_count": null,
      "outputs": []
    },
    {
      "cell_type": "code",
      "source": [
        "#APIキーのモデルへの設定\n",
        "client = genai.Client(api_key=GEMINI_API_KEY)\n"
      ],
      "metadata": {
        "id": "7b08c4427ngy"
      },
      "execution_count": 5,
      "outputs": []
    },
    {
      "cell_type": "code",
      "source": [
        "#ファイルのPATH\n",
        "file_path = 'YOUR FILE PATH'"
      ],
      "metadata": {
        "id": "aZk9su73Bedm"
      },
      "execution_count": 15,
      "outputs": []
    },
    {
      "cell_type": "code",
      "source": [
        "#音声を読み込む\n",
        "myfile = client.files.upload(file=file_path)\n",
        "\n",
        "#gemini2.0で読み込む\n",
        "response = client.models.generate_content(\n",
        "    model=\"gemini-2.0-flash\", contents=[\"この音声ファイルを書き起こしてください。なるべく自然な日本語になるように校正してください\", myfile]\n",
        ")\n",
        "\n",
        "print(response.text)"
      ],
      "metadata": {
        "id": "3JNUirIt_iZ_"
      },
      "execution_count": null,
      "outputs": []
    }
  ]
}